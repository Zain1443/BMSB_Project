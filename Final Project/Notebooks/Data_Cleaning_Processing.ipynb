{
 "cells": [
  {
   "cell_type": "markdown",
   "metadata": {},
   "source": [
    "# FINAL PROJECT"
   ]
  },
  {
   "cell_type": "markdown",
   "metadata": {},
   "source": [
    "**Huff Model**\n",
    "\n",
    "**What Esri Says:**\n",
    "The Huff Model, also known as the Huff gravity model, is an established theory in spatial analysis. It is based on the principle that the probability of a given consumer visiting and purchasing at a given site is a function of the distance to that site, its attractiveness, and the distance and attractiveness of competing sites.\n",
    "\n",
    "Link: https://pro.arcgis.com/en/pro-app/latest/tool-reference/business-analyst/understanding-huff-model.htm"
   ]
  },
  {
   "cell_type": "code",
   "execution_count": null,
   "metadata": {},
   "outputs": [],
   "source": [
    "C:\\Users\\15612\\Documents\\Arc_II\\Final_Project\\Notebooks\\Data_Cleaning_Processing.ipynb"
   ]
  },
  {
   "cell_type": "code",
   "execution_count": null,
   "metadata": {},
   "outputs": [],
   "source": []
  },
  {
   "cell_type": "code",
   "execution_count": null,
   "metadata": {},
   "outputs": [],
   "source": []
  },
  {
   "cell_type": "markdown",
   "metadata": {},
   "source": [
    "#### Import All Required Modules for this Lab"
   ]
  },
  {
   "cell_type": "code",
   "execution_count": 2,
   "metadata": {},
   "outputs": [],
   "source": [
    "# Library for data manipulation and analysis\n",
    "import pandas as pd\n",
    "\n",
    "# Library for working with ArcGIS tools and functionalities\n",
    "import arcpy\n",
    "import arcgis\n",
    "\n",
    "# Library for handling JSON data\n",
    "import json\n",
    "\n",
    "# Library for making HTTP requests and interacting with web services\n",
    "import requests\n",
    "\n",
    "# Library for interacting with the operating system, managing file paths, and executing system commands\n",
    "import os\n",
    "\n",
    "# Library for handling warnings generated during code execution\n",
    "import warnings\n",
    "\n",
    "# Library for displaying images in Jupyter Notebooks\n",
    "from IPython.display import Image\n",
    "\n",
    "# Library for generating random numbers\n",
    "import random\n",
    "\n",
    "# Library for handling zip files and working with IO streams\n",
    "import zipfile\n",
    "import io\n",
    "\n",
    "# Library for working with dates\n",
    "from datetime import date\n",
    "\n",
    "import urllib.request"
   ]
  },
  {
   "cell_type": "markdown",
   "metadata": {},
   "source": [
    "### Setting Up ArcPy Environment for Geospatial Processing"
   ]
  },
  {
   "cell_type": "code",
   "execution_count": 3,
   "metadata": {},
   "outputs": [],
   "source": [
    "# get the directory path of the currently open ArcGIS project\n",
    "file_path = os.path.dirname(arcpy.mp.ArcGISProject('CURRENT').filePath)\n",
    "\n",
    "# Change the current working directory to the extracted directory path\n",
    "os.chdir(file_path)\n",
    "\n",
    "# Set the workspace environment to the extracted directory path\n",
    "arcpy.env.workspace = file_path\n",
    "\n",
    "# Define a spatial reference with ID 26915 (UTM zone 15N)\n",
    "spatial_ref = arcpy.SpatialReference(26915)\n",
    "\n",
    "# Establish variables for project and map\n",
    "project = arcpy.mp.ArcGISProject(\"CURRENT\")\n",
    "m = project.listMaps(\"Map\")[0]"
   ]
  },
  {
   "cell_type": "markdown",
   "metadata": {},
   "source": [
    "### Path to FGDB And SDE"
   ]
  },
  {
   "cell_type": "code",
   "execution_count": 5,
   "metadata": {},
   "outputs": [],
   "source": [
    "#path to local database\n",
    "file_gdb = r\"C:\\Users\\15612\\Documents\\Arc_II\\Final_Project\\BMSB_Project_2\\BMSB_Project_2.gdb\""
   ]
  },
  {
   "cell_type": "markdown",
   "metadata": {},
   "source": [
    "## BMSB SURVEY DATA\n",
    "BMSB Survey Data, Minnesota: https://gisdata.mn.gov/it/dataset/biota-bmsb"
   ]
  },
  {
   "cell_type": "markdown",
   "metadata": {},
   "source": [
    "### ETL Part to pull data from the URL"
   ]
  },
  {
   "cell_type": "code",
   "execution_count": 15,
   "metadata": {},
   "outputs": [],
   "source": [
    "# Define a function to pull data from the Minnesota Geospatial Commons\n",
    "def mn_geo_pull_and_unzip(url, directory, GDB_or_SHP):\n",
    "\n",
    "    # Get GeoJSON from MN Geospatial Commons\n",
    "    api = requests.get(url)\n",
    "    json = api.json()\n",
    "    \n",
    "    # Use second list in the 'resources' key if data is in file geodatabase format\n",
    "    if GDB_or_SHP == 'GDB':\n",
    "        zip_link = requests.get(json['result']['resources'][1]['url'])\n",
    "    \n",
    "    # Use first list in the 'resources' key if data is in shapefile format\n",
    "    if GDB_or_SHP == 'SHP':\n",
    "        zip_link = requests.get(json['result']['resources'][2]['url'])\n",
    "        \n",
    "    # Get zipfile and extract\n",
    "    z_file = zipfile.ZipFile(io.BytesIO(zip_link.content))\n",
    "    z_file.extractall(directory)"
   ]
  },
  {
   "cell_type": "code",
   "execution_count": 18,
   "metadata": {},
   "outputs": [],
   "source": [
    "mn_geo_pull_and_unzip('https://gisdata.mn.gov/api/3/action/package_show?id=biota-bmsb',\n",
    "                      r'C:\\Users\\15612\\Documents\\Arc_II\\Final_Project\\BMSB Data\\biota_bmsb.gdb\\BMSBSurveyDataTable','GDB')"
   ]
  },
  {
   "cell_type": "code",
   "execution_count": 19,
   "metadata": {},
   "outputs": [
    {
     "data": {
      "text/html": [
       "<div class='gpresult'><h2>Messages</h2><div id='messages' data-messages='[\"Start Time: Friday, April 19, 2024 5:56:12 PM\",\"Succeeded at Friday, April 19, 2024 5:56:13 PM (Elapsed Time: 1.28 seconds)\"]' data-show='true'><div id = 'default' /></div></div>"
      ],
      "text/plain": [
       "<Result 'C:\\\\Users\\\\15612\\\\Documents\\\\Arc_II\\\\Final_Project\\\\BMSB_Project_2\\\\BMSB_Project_2.gdb\\\\BMSBSurveyDataTable'>"
      ]
     },
     "execution_count": 19,
     "metadata": {},
     "output_type": "execute_result"
    }
   ],
   "source": [
    "# Paths\n",
    "dbf_file_path = r'C:\\Users\\15612\\Documents\\Arc_II\\Final_Project\\BMSB Data\\biota_bmsb.gdb\\BMSBSurveyDataTable'\n",
    "\n",
    "# Save table as feature class in file geodatabase\n",
    "arcpy.conversion.TableToTable(dbf_file_path, file_gdb, \"BMSBSurveyDataTable\")"
   ]
  },
  {
   "cell_type": "markdown",
   "metadata": {},
   "source": [
    "#### QAQC BMSB Population Data"
   ]
  },
  {
   "cell_type": "code",
   "execution_count": 20,
   "metadata": {},
   "outputs": [],
   "source": [
    "# Path to the input file within the file geodatabase\n",
    "BMSBSurveyDataTable = os.path.join(file_gdb, 'BMSBSurveyDataTable')"
   ]
  },
  {
   "cell_type": "code",
   "execution_count": 21,
   "metadata": {},
   "outputs": [],
   "source": [
    "# Path to save the cleaned data as a shapefile within the file geodatabase\n",
    "BMSBSurveyDataTable_Clean = os.path.join(file_gdb, 'BMSBSurveyDataTable_Clean')"
   ]
  },
  {
   "cell_type": "code",
   "execution_count": 22,
   "metadata": {},
   "outputs": [
    {
     "name": "stdout",
     "output_type": "stream",
     "text": [
      "Data cleaned and saved to output table.\n"
     ]
    }
   ],
   "source": [
    "# Fields to keep during cleaning\n",
    "fields_to_keep = ['OBJECTID', 'City', 'County', 'Latitude', 'Longitude', 'Adults', 'Nymphs']\n",
    "\n",
    "# Create dictionaries to store aggregated values by city\n",
    "city_data = {}\n",
    "\n",
    "# Open a search cursor to iterate over the input table\n",
    "with arcpy.da.SearchCursor(BMSBSurveyDataTable, fields_to_keep) as cursor:\n",
    "    for row in cursor:\n",
    "        city = row[1]  # City name\n",
    "        adults = row[5]  # Adults column\n",
    "        nymphs = row[6]  # Nymphs column\n",
    "        if city not in city_data:\n",
    "            # If city is not in the dictionary, initialize values\n",
    "            city_data[city] = {'latitude': [], 'longitude': [], 'adults': 0, 'nymphs': 0}\n",
    "        # Append latitude and longitude values\n",
    "        city_data[city]['latitude'].append(row[3])\n",
    "        city_data[city]['longitude'].append(row[4])\n",
    "        # Sum adults and nymphs\n",
    "        city_data[city]['adults'] += adults\n",
    "        city_data[city]['nymphs'] += nymphs\n",
    "\n",
    "# Create a new table\n",
    "arcpy.CreateTable_management(out_path=file_gdb,\n",
    "                              out_name='BMSBSurveyDataTable_Clean')\n",
    "\n",
    "# Add fields to the new table\n",
    "arcpy.AddField_management(BMSBSurveyDataTable_Clean, 'City', 'TEXT')\n",
    "arcpy.AddField_management(BMSBSurveyDataTable_Clean, 'Latitude', 'DOUBLE')\n",
    "arcpy.AddField_management(BMSBSurveyDataTable_Clean, 'Longitude', 'DOUBLE')\n",
    "arcpy.AddField_management(BMSBSurveyDataTable_Clean, 'Adults', 'LONG')\n",
    "arcpy.AddField_management(BMSBSurveyDataTable_Clean, 'Nymphs', 'LONG')\n",
    "\n",
    "# Open an insert cursor to add rows to the new table\n",
    "with arcpy.da.InsertCursor(BMSBSurveyDataTable_Clean, ['City', 'Latitude', 'Longitude', 'Adults', 'Nymphs']) as cursor:\n",
    "    # Iterate over the city data dictionary\n",
    "    for city, data in city_data.items():\n",
    "        # Calculate mean latitude and longitude\n",
    "        mean_latitude = sum(data['latitude']) / len(data['latitude'])\n",
    "        mean_longitude = sum(data['longitude']) / len(data['longitude'])\n",
    "        # Insert row into the new table\n",
    "        cursor.insertRow([city, mean_latitude, mean_longitude, data['adults'], data['nymphs']])\n",
    "\n",
    "print(\"Data cleaned and saved to output table.\")"
   ]
  },
  {
   "cell_type": "code",
   "execution_count": 23,
   "metadata": {},
   "outputs": [
    {
     "name": "stdout",
     "output_type": "stream",
     "text": [
      "New fields 'BMSB_Total' and 'BMSB_presence' added successfully to: C:\\Users\\15612\\Documents\\Arc_II\\Final_Project\\BMSB_Project_2\\BMSB_Project_2.gdb\\BMSBSurveyDataTable_Clean\n"
     ]
    }
   ],
   "source": [
    "# Add new fields 'BMSB_Total' and 'BMSB_presence' to the cleaned standalone table\n",
    "arcpy.AddField_management(BMSBSurveyDataTable_Clean, 'BMSB_Total', 'LONG')\n",
    "arcpy.AddField_management(BMSBSurveyDataTable_Clean, 'BMSB_presence', 'SHORT')\n",
    "\n",
    "# Open an update cursor to iterate over the table\n",
    "with arcpy.da.UpdateCursor(BMSBSurveyDataTable_Clean, ['Adults', 'Nymphs', 'BMSB_Total', 'BMSB_presence']) as cursor:\n",
    "    for row in cursor:\n",
    "        # Calculate BMSB_Total as the sum of Adults and Nymphs\n",
    "        row[2] = row[0] + row[1]\n",
    "        \n",
    "        # Check if either 'Adults' or 'Nymphs' is greater than 0\n",
    "        if row[0] > 0 or row[1] > 0:\n",
    "            # If either condition is true, set 'BMSB_presence' to 1\n",
    "            row[3] = 1\n",
    "        else:\n",
    "            # Otherwise, set 'BMSB_presence' to 0\n",
    "            row[3] = 0\n",
    "        # Update the row\n",
    "        cursor.updateRow(row)\n",
    "\n",
    "print(f\"New fields 'BMSB_Total' and 'BMSB_presence' added successfully to: {BMSBSurveyDataTable_Clean}\")"
   ]
  },
  {
   "cell_type": "markdown",
   "metadata": {},
   "source": [
    "#### CONVERT TABLE TO FEATURE LAYER:"
   ]
  },
  {
   "cell_type": "code",
   "execution_count": 83,
   "metadata": {},
   "outputs": [
    {
     "data": {
      "text/html": [
       "<div class='gpresult'><h2>Messages</h2><div id='messages' data-messages='[\"Start Time: Friday, April 19, 2024 10:57:21 PM\",\"Succeeded at Friday, April 19, 2024 10:57:24 PM (Elapsed Time: 2.39 seconds)\"]' data-show='true'><div id = 'default' /></div></div>"
      ],
      "text/plain": [
       "<Result 'C:\\\\Users\\\\15612\\\\Documents\\\\Arc_II\\\\Final_Project\\\\BMSB_Project_2\\\\BMSB_Project_2.gdb\\\\BMSB_sightings'>"
      ]
     },
     "execution_count": 83,
     "metadata": {},
     "output_type": "execute_result"
    }
   ],
   "source": [
    "# Convert table to point feature class\n",
    "arcpy.management.XYTableToPoint(\n",
    "    in_table=os.path.join(file_gdb,'BMSBSurveyDataTable_Clean'),\n",
    "    out_feature_class=os.path.join(file_gdb,'BMSB_sightings'),\n",
    "    x_field=\"Longitude\",\n",
    "    y_field=\"Latitude\",\n",
    "    z_field=None,\n",
    "    coordinate_system=spatial_ref\n",
    ")"
   ]
  },
  {
   "cell_type": "markdown",
   "metadata": {},
   "source": [
    "##### Get just the Cities with BMSB presence"
   ]
  },
  {
   "cell_type": "code",
   "execution_count": 84,
   "metadata": {},
   "outputs": [
    {
     "data": {
      "text/html": [
       "<div class='gpresult'><h2>Messages</h2><div id='messages' data-messages='[\"Start Time: Friday, April 19, 2024 10:57:28 PM\",\"Succeeded at Friday, April 19, 2024 10:57:28 PM (Elapsed Time: 0.49 seconds)\"]' data-show='true'><div id = 'default' /></div></div>"
      ],
      "text/plain": [
       "<Result 'C:\\\\Users\\\\15612\\\\Documents\\\\Arc_II\\\\Final_Project\\\\BMSB_Project_2\\\\BMSB_Project_2.gdb\\\\BMSBDataClean_Filtered'>"
      ]
     },
     "execution_count": 84,
     "metadata": {},
     "output_type": "execute_result"
    }
   ],
   "source": [
    "BMSBData_Clean = os.path.join(file_gdb, \"BMSB_sightings\")\n",
    "\n",
    "# Load Cities to GDB\n",
    "arcpy.conversion.ExportFeatures(\n",
    "    BMSBData_Clean,\n",
    "    os.path.join(file_gdb, \"BMSBDataClean_Filtered\"),\n",
    "    where_clause=\"BMSB_presence > 0\",\n",
    ")"
   ]
  },
  {
   "cell_type": "code",
   "execution_count": null,
   "metadata": {},
   "outputs": [],
   "source": []
  },
  {
   "cell_type": "code",
   "execution_count": null,
   "metadata": {},
   "outputs": [],
   "source": []
  },
  {
   "cell_type": "markdown",
   "metadata": {},
   "source": [
    "## MINNESOTA CITIES DATA"
   ]
  },
  {
   "cell_type": "code",
   "execution_count": 29,
   "metadata": {},
   "outputs": [],
   "source": [
    "mn_geo_pull_and_unzip('https://gisdata.mn.gov/api/3/action/package_show?id=bdry-mn-city-township-unorg',\n",
    "                      r'C:\\Users\\15612\\Documents\\Arc_II\\Final_Project\\Cities Data','GDB')"
   ]
  },
  {
   "cell_type": "code",
   "execution_count": 85,
   "metadata": {},
   "outputs": [
    {
     "data": {
      "text/html": [
       "<div class='gpresult'><h2>Messages</h2><div id='messages' data-messages='[\"Start Time: Friday, April 19, 2024 10:57:46 PM\",\"Succeeded at Friday, April 19, 2024 10:57:47 PM (Elapsed Time: 0.67 seconds)\"]' data-show='true'><div id = 'default' /></div></div>"
      ],
      "text/plain": [
       "<Result 'C:\\\\Users\\\\15612\\\\Documents\\\\Arc_II\\\\Final_Project\\\\BMSB_Project_2\\\\BMSB_Project_2.gdb\\\\MN_CTUs'>"
      ]
     },
     "execution_count": 85,
     "metadata": {},
     "output_type": "execute_result"
    }
   ],
   "source": [
    "# Paths\n",
    "layer_file_path = r'C:\\Users\\15612\\Documents\\Arc_II\\Final_Project\\Cities Data\\bdry_mn_city_township_unorg.gdb\\city_township_unorg'\n",
    "\n",
    "# Save layer as feature class in file geodatabase\n",
    "arcpy.conversion.FeatureClassToFeatureClass(layer_file_path, file_gdb, \"MN_CTUs\")"
   ]
  },
  {
   "cell_type": "markdown",
   "metadata": {},
   "source": [
    "### Just get the Cities in MN and Clean City Population Data\n",
    "* Some cities were repeatative - used dissolve tool to get unique city polygons - population was summed"
   ]
  },
  {
   "cell_type": "code",
   "execution_count": 86,
   "metadata": {},
   "outputs": [],
   "source": [
    "# Paths\n",
    "MN_CTUs = os.path.join(file_gdb, \"MN_CTUs\")\n",
    "MN_Cities = os.path.join(file_gdb, \"MN_Cities\")"
   ]
  },
  {
   "cell_type": "code",
   "execution_count": 87,
   "metadata": {},
   "outputs": [
    {
     "name": "stdout",
     "output_type": "stream",
     "text": [
      "Fields modified successfully in MN_Cities.\n",
      "City polygons dissolved successfully and populations summed.\n"
     ]
    }
   ],
   "source": [
    "# Load Cities to GDB with filtering\n",
    "arcpy.conversion.ExportFeatures(\n",
    "    MN_CTUs,\n",
    "    MN_Cities,\n",
    "    where_clause=\"CTU_CLASS = 'CITY'\",\n",
    ")\n",
    "\n",
    "# Define fields to drop and rename\n",
    "fields_to_drop = [\"GNIS_FEATURE_ID\", \"CTU_CLASS\", \"COUNTY_GNIS_FEATURE_ID\", \"COUNTY_CODE\", \"COUNTY_NAME\"]\n",
    "\n",
    "# Drop specified fields\n",
    "fields_to_keep = [f.name for f in arcpy.ListFields(MN_Cities) if f.type not in [\"OID\", \"Geometry\"]]\n",
    "fields_to_drop = [field for field in fields_to_drop if field in fields_to_keep]\n",
    "arcpy.management.DeleteField(MN_Cities, fields_to_drop)\n",
    "\n",
    "# Rename FEATURE_NAME to City and set alias\n",
    "arcpy.management.AlterField(MN_Cities, \"FEATURE_NAME\", \"City\", \"City\")\n",
    "\n",
    "print(\"Fields modified successfully in MN_Cities.\")\n",
    "\n",
    "# Dissolve cities where they repeat and sum their populations\n",
    "output_dissolved = os.path.join(file_gdb, \"MN_Cities_Dissolved\")\n",
    "arcpy.management.Dissolve(MN_Cities, output_dissolved, \"City\", statistics_fields=[[\"Population\", \"SUM\"]], multi_part=\"MULTI_PART\", unsplit_lines=\"UNSPLIT_LINES\")\n",
    "\n",
    "print(\"City polygons dissolved successfully and populations summed.\")"
   ]
  },
  {
   "cell_type": "code",
   "execution_count": null,
   "metadata": {},
   "outputs": [],
   "source": []
  },
  {
   "cell_type": "code",
   "execution_count": null,
   "metadata": {},
   "outputs": [],
   "source": []
  },
  {
   "cell_type": "markdown",
   "metadata": {},
   "source": [
    "## HUFF MODEL DATA PREPARATION"
   ]
  },
  {
   "cell_type": "markdown",
   "metadata": {},
   "source": [
    "### Calculating Distance between Cities Table\n",
    "\n",
    "* This is a standalone table\n",
    "* Attractiveness is population of each city and distance between between City_A to City_B"
   ]
  },
  {
   "cell_type": "code",
   "execution_count": 11,
   "metadata": {},
   "outputs": [],
   "source": [
    "# Define file paths\n",
    "MN_Cities_Dis = os.path.join(file_gdb, \"MN_Cities_Dissolved\")\n",
    "City_Distance_Table = os.path.join(file_gdb, \"City_Distance_Table\")\n",
    "output_table = os.path.join(file_gdb, \"MN_Cities_Distance\")"
   ]
  },
  {
   "cell_type": "code",
   "execution_count": 12,
   "metadata": {},
   "outputs": [
    {
     "name": "stdout",
     "output_type": "stream",
     "text": [
      "City distance table created successfully.\n"
     ]
    }
   ],
   "source": [
    "# Create a new table\n",
    "arcpy.management.CreateTable(os.path.dirname(output_table), os.path.basename(output_table))\n",
    "\n",
    "# Add fields to the output table\n",
    "arcpy.management.AddField(output_table, \"City_1\", \"TEXT\")\n",
    "arcpy.management.AddField(output_table, \"City_2\", \"TEXT\")\n",
    "arcpy.management.AddField(output_table, \"Near_Dist\", \"DOUBLE\")  # Moved Near_Dist to 3rd position\n",
    "arcpy.management.AddField(output_table, \"City_1_POP\", \"LONG\")\n",
    "arcpy.management.AddField(output_table, \"City_2_POP\", \"LONG\")\n",
    "arcpy.management.AddField(output_table, \"Trans_Prob_15\", \"DOUBLE\")\n",
    "arcpy.management.AddField(output_table, \"Trans_Prob_175\", \"DOUBLE\")\n",
    "arcpy.management.AddField(output_table, \"Trans_Prob_2\", \"DOUBLE\")\n",
    "\n",
    "# Generate a cursor to insert rows into the output table\n",
    "with arcpy.da.InsertCursor(output_table, [\"City_1\", \"City_2\", \"Near_Dist\", \"City_1_POP\", \"City_2_POP\"]) as cursor:\n",
    "    inserted_pairs = set()  # Set to keep track of inserted pairs\n",
    "    # Iterate over each city as City_1\n",
    "    with arcpy.da.SearchCursor(MN_Cities_Dis, [\"City\", \"SUM_Population\", \"SHAPE@XY\"]) as city1_cursor:\n",
    "        for city1_row in city1_cursor:\n",
    "            city1_name, city1_pop, city1_xy = city1_row[0], city1_row[1], city1_row[2]\n",
    "            # Iterate over each city as City_2\n",
    "            with arcpy.da.SearchCursor(MN_Cities_Dis, [\"City\", \"SUM_Population\", \"SHAPE@XY\"]) as city2_cursor:\n",
    "                for city2_row in city2_cursor:\n",
    "                    city2_name, city2_pop, city2_xy = city2_row[0], city2_row[1], city2_row[2]\n",
    "                    # Check if City_1 and City_2 are different and not already inserted\n",
    "                    if city1_name != city2_name and (city2_name, city1_name) not in inserted_pairs:\n",
    "                        # Calculate distance between City_1 and City_2\n",
    "                        x1, y1 = city1_xy\n",
    "                        x2, y2 = city2_xy\n",
    "                        near_dist = math.sqrt((x2 - x1)**2 + (y2 - y1)**2)\n",
    "                        # Insert row into output table\n",
    "                        cursor.insertRow([city1_name, city2_name, near_dist, city1_pop, city2_pop])\n",
    "                        # Add the inserted pair to the set\n",
    "                        inserted_pairs.add((city1_name, city2_name))\n",
    "\n",
    "print(\"City distance table created successfully.\")"
   ]
  },
  {
   "cell_type": "code",
   "execution_count": null,
   "metadata": {},
   "outputs": [],
   "source": []
  },
  {
   "cell_type": "code",
   "execution_count": null,
   "metadata": {},
   "outputs": [],
   "source": []
  },
  {
   "cell_type": "markdown",
   "metadata": {},
   "source": [
    "### Cities Layer to Points"
   ]
  },
  {
   "cell_type": "code",
   "execution_count": 7,
   "metadata": {},
   "outputs": [],
   "source": [
    "# Define file paths\n",
    "MN_Cities_Dis = os.path.join(file_gdb, \"MN_Cities_Dissolved\")\n",
    "MN_Cities_15 = os.path.join(file_gdb, \"MN_Cities_15\")"
   ]
  },
  {
   "cell_type": "code",
   "execution_count": 91,
   "metadata": {},
   "outputs": [
    {
     "data": {
      "text/html": [
       "<div class='gpresult'><h2>Messages</h2><div id='messages' data-messages='[\"Start Time: Friday, April 19, 2024 11:06:05 PM\",\"Succeeded at Friday, April 19, 2024 11:06:05 PM (Elapsed Time: 0.47 seconds)\"]' data-show='true'><div id = 'default' /></div></div>"
      ],
      "text/plain": [
       "<Result 'C:\\\\Users\\\\15612\\\\Documents\\\\Arc_II\\\\Final_Project\\\\BMSB_Project_2\\\\BMSB_Project_2.gdb\\\\MN_Cities_Pts'>"
      ]
     },
     "execution_count": 91,
     "metadata": {},
     "output_type": "execute_result"
    }
   ],
   "source": [
    "# Convert MN_Cities_Dis to points\n",
    "arcpy.management.FeatureToPoint(in_features=MN_Cities_Dis, out_feature_class=MN_Cities_Pts, point_location=\"CENTROID\")"
   ]
  },
  {
   "cell_type": "markdown",
   "metadata": {},
   "source": [
    "#### Appending Cities Point Layer"
   ]
  },
  {
   "cell_type": "code",
   "execution_count": 92,
   "metadata": {},
   "outputs": [
    {
     "name": "stdout",
     "output_type": "stream",
     "text": [
      "Columns added successfully to MN_Cities_Pts.\n"
     ]
    }
   ],
   "source": [
    "# Add new columns in MN_Cities_Pts\n",
    "for i in range(100):\n",
    "    fieldname = 'BMSB_Sim' + str(i)\n",
    "    arcpy.management.AddField(MN_Cities_15, fieldname, \"SHORT\")\n",
    "\n",
    "# Add more columns in MN_Cities_Pts\n",
    "col_list = [\"TP\", \"TN\", \"FP\", \"FN\", \"Presence\", \"Accuracy\", \"Rank\"]\n",
    "for col in col_list:\n",
    "    arcpy.management.AddField(MN_Cities_15, col, \"DOUBLE\")\n",
    "\n",
    "print(\"Columns added successfully to MN_Cities_Pts.\")"
   ]
  },
  {
   "cell_type": "code",
   "execution_count": 10,
   "metadata": {},
   "outputs": [],
   "source": [
    "# Add tables for alpha values of 1.75 and 2\n",
    "table_list = ['MN_Cities_175','MN_Cities_2']\n",
    "\n",
    "for table in table_list:\n",
    "    arcpy.management.CopyFeatures(\n",
    "        in_features = 'MN_Cities_15',\n",
    "        out_feature_class = os.path.join(file_gdb,table)\n",
    "    )"
   ]
  },
  {
   "cell_type": "code",
   "execution_count": null,
   "metadata": {},
   "outputs": [],
   "source": [
    "arcpy.management.CopyFeatures(\n",
    "        in_features = 'MN_Cities_175',\n",
    "        out_feature_class = os.path.join(file_gdb,'MN_Cities_2')\n",
    "    )"
   ]
  },
  {
   "cell_type": "code",
   "execution_count": null,
   "metadata": {},
   "outputs": [],
   "source": []
  },
  {
   "cell_type": "markdown",
   "metadata": {},
   "source": [
    "### Spatial Join between BMSB and City Population"
   ]
  },
  {
   "cell_type": "code",
   "execution_count": 93,
   "metadata": {},
   "outputs": [],
   "source": [
    "# Define file paths\n",
    "targetFeatures = os.path.join(file_gdb, \"BMSB_sightings\")\n",
    "joinFeatures = os.path.join(file_gdb, \"MN_Cities_Dissolved\")\n",
    "BMSB_PointsData_SJ = os.path.join(file_gdb, \"BMSB_PointsData_SJ\") "
   ]
  },
  {
   "cell_type": "code",
   "execution_count": 94,
   "metadata": {},
   "outputs": [
    {
     "data": {
      "text/html": [
       "<div class='gpresult'><h2>Messages</h2><div id='messages' data-messages='[\"Start Time: Friday, April 19, 2024 11:06:41 PM\",\"Succeeded at Friday, April 19, 2024 11:06:42 PM (Elapsed Time: 1.13 seconds)\"]' data-show='true'><div id = 'default' /></div></div>"
      ],
      "text/plain": [
       "<Result 'C:\\\\Users\\\\15612\\\\Documents\\\\Arc_II\\\\Final_Project\\\\BMSB_Project_2\\\\BMSB_Project_2.gdb\\\\BMSB_PointsData_SJ'>"
      ]
     },
     "execution_count": 94,
     "metadata": {},
     "output_type": "execute_result"
    }
   ],
   "source": [
    "# Perform spatial join\n",
    "arcpy.analysis.SpatialJoin(targetFeatures, joinFeatures, BMSB_PointsData_SJ, \"#\", \"#\", match_option=\"CLOSEST_GEODESIC\")"
   ]
  },
  {
   "cell_type": "code",
   "execution_count": null,
   "metadata": {},
   "outputs": [],
   "source": []
  }
 ],
 "metadata": {
  "kernelspec": {
   "display_name": "ArcGISPro",
   "language": "Python",
   "name": "python3"
  },
  "language_info": {
   "file_extension": ".py",
   "name": "python",
   "version": "3"
  }
 },
 "nbformat": 4,
 "nbformat_minor": 2
}
