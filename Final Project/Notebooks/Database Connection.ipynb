{
 "cells": [
  {
   "cell_type": "markdown",
   "metadata": {},
   "source": [
    "## CONNECT TO SDE DATABASE\n",
    "\n",
    "- This notebook pushes the simulated BMSB data to a Postgres database\n",
    "- Utilizing an .sde database, Github, and Google Cloud Run, this data can be displayed in a ArcGIS Online Web Map"
   ]
  },
  {
   "cell_type": "code",
   "execution_count": 23,
   "metadata": {},
   "outputs": [],
   "source": [
    "# Library for data manipulation and analysis\n",
    "import pandas as pd\n",
    "\n",
    "# Library for working with ArcGIS tools and functionalities\n",
    "import arcpy\n",
    "import arcgis\n",
    "\n",
    "# Libraries for working with PostgreSQL\n",
    "import psycopg2\n",
    "from psycopg2 import sql\n",
    "\n",
    "# Library for handling JSON data\n",
    "import json\n",
    "\n",
    "# Library for making HTTP requests and interacting with web services\n",
    "import requests\n",
    "\n",
    "# Library for interacting with the operating system, managing file paths, and executing system commands\n",
    "import os\n",
    "\n",
    "# Library for handling warnings generated during code execution\n",
    "import warnings\n",
    "\n",
    "# Library for displaying images in Jupyter Notebooks\n",
    "from IPython.display import Image\n",
    "\n",
    "# Library for generating random numbers\n",
    "import random\n",
    "\n",
    "# Library for handling zip files and working with IO streams\n",
    "import zipfile\n",
    "import io\n",
    "\n",
    "# Library for working with dates\n",
    "from datetime import date\n",
    "\n",
    "import urllib.request"
   ]
  },
  {
   "cell_type": "code",
   "execution_count": 24,
   "metadata": {},
   "outputs": [
    {
     "data": {
      "text/html": [
       "<div class='gpresult'><h2>Messages</h2><div id='messages' data-messages='[\"Start Time: Wednesday, April 24, 2024 11:49:31 AM\",\"WARNING 000258: Output C:\\\\Users\\\\15612\\\\Documents\\\\Arc_II\\\\Lab 3\\\\Lab 3\\\\PostgreSQL-35-gis5572(postgres).sde already exists\",\"Succeeded at Wednesday, April 24, 2024 11:49:39 AM (Elapsed Time: 7.47 seconds)\"]' data-show='true'><div id = 'default' /></div></div>"
      ],
      "text/plain": [
       "<Result 'C:\\\\Users\\\\15612\\\\Documents\\\\Arc_II\\\\Lab 3\\\\Lab 3\\\\PostgreSQL-35-gis5572(postgres).sde'>"
      ]
     },
     "execution_count": 24,
     "metadata": {},
     "output_type": "execute_result"
    }
   ],
   "source": [
    "# Create database connection\n",
    "file_path = r'C:\\Users\\15612\\Documents\\Arc_II\\Lab 3\\Lab 3'\n",
    "dbname = 'PostgreSQL-35-gis5572(postgres).sde'\n",
    "platform = 'POSTGRESQL'\n",
    "user = 'postgres'\n",
    "password = 'Hyderabad43%'\n",
    "instance = '35.238.64.215'\n",
    "port = '5432'\n",
    "auth = 'DATABASE_AUTH'\n",
    "save = 'SAVE_USERNAME'\n",
    "db = 'gis5572'\n",
    "\n",
    "arcpy.management.CreateDatabaseConnection(\n",
    "    out_folder_path = file_path,\n",
    "    out_name = dbname,\n",
    "    database_platform = platform,\n",
    "    instance = instance,\n",
    "    account_authentication = auth,\n",
    "    username = user,\n",
    "    password = password,\n",
    "    save_user_pass = save,\n",
    "    database = db\n",
    ")"
   ]
  },
  {
   "cell_type": "code",
   "execution_count": 25,
   "metadata": {},
   "outputs": [],
   "source": [
    "#path to local database\n",
    "file_gdb = r\"C:\\Users\\15612\\Documents\\Arc_II\\Final_Project\\BMSB_Project_2\\BMSB_Project_2.gdb\""
   ]
  },
  {
   "cell_type": "code",
   "execution_count": 26,
   "metadata": {},
   "outputs": [],
   "source": [
    "# Define a spatial reference with ID 4326 (WGS 84)\n",
    "spatial_ref = arcpy.SpatialReference(4326)"
   ]
  },
  {
   "cell_type": "code",
   "execution_count": 27,
   "metadata": {},
   "outputs": [],
   "source": [
    "def project(in_features):\n",
    "\n",
    "    arcpy.management.Project(\n",
    "        in_dataset = in_features,\n",
    "        out_dataset = os.path.join(file_gdb,in_features + '_WGS84'),\n",
    "        out_coor_system = spatial_ref\n",
    "    )"
   ]
  },
  {
   "cell_type": "code",
   "execution_count": 28,
   "metadata": {},
   "outputs": [],
   "source": [
    "project('MN_Cities_15_ranked')\n",
    "project('MN_Cities_175_ranked')\n",
    "project('MN_Cities_2_ranked')"
   ]
  },
  {
   "cell_type": "code",
   "execution_count": 29,
   "metadata": {},
   "outputs": [],
   "source": [
    "BMSB_rank_list = [os.path.join(file_gdb,'MN_Cities_15_ranked_WGS84'),os.path.join(file_gdb,'MN_Cities_175_ranked_WGS84'),os.path.join(file_gdb,'MN_Cities_2_ranked_WGS84')]\n",
    "\n",
    "# Set variable to SDE database\n",
    "sde_gdb = os.path.join(file_path,dbname)\n",
    "\n",
    "# Add data to sde database\n",
    "for BMSB_rank in BMSB_rank_list:\n",
    "\n",
    "    arcpy.conversion.FeatureClassToGeodatabase(\n",
    "        Input_Features = BMSB_rank,\n",
    "        Output_Geodatabase = sde_gdb\n",
    "    )"
   ]
  }
 ],
 "metadata": {
  "kernelspec": {
   "display_name": "ArcGISPro",
   "language": "Python",
   "name": "python3"
  },
  "language_info": {
   "file_extension": ".py",
   "name": "python",
   "version": "3"
  }
 },
 "nbformat": 4,
 "nbformat_minor": 2
}
