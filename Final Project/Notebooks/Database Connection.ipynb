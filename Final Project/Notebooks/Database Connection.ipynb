{
 "cells": [
  {
   "cell_type": "markdown",
   "metadata": {},
   "source": [
    "## CONNECT TO SDE DATABASE\n",
    "\n",
    "- This notebook pushes the simulated BMSB data to a Postgres database\n",
    "- Utilizing an .sde database, Github, and Google Cloud Run, this data can be displayed in a ArcGIS Online Web Map"
   ]
  },
  {
   "cell_type": "code",
   "execution_count": 125,
   "metadata": {},
   "outputs": [],
   "source": [
    "# Library for data manipulation and analysis\n",
    "import pandas as pd\n",
    "\n",
    "# Library for working with ArcGIS tools and functionalities\n",
    "import arcpy\n",
    "import arcgis\n",
    "\n",
    "# Libraries for working with PostgreSQL\n",
    "import psycopg2\n",
    "from psycopg2 import sql\n",
    "\n",
    "# Library for handling JSON data\n",
    "import json\n",
    "\n",
    "# Library for making HTTP requests and interacting with web services\n",
    "import requests\n",
    "\n",
    "# Library for interacting with the operating system, managing file paths, and executing system commands\n",
    "import os\n",
    "\n",
    "# Library for handling warnings generated during code execution\n",
    "import warnings\n",
    "\n",
    "# Library for displaying images in Jupyter Notebooks\n",
    "from IPython.display import Image\n",
    "\n",
    "# Library for generating random numbers\n",
    "import random\n",
    "\n",
    "# Library for handling zip files and working with IO streams\n",
    "import zipfile\n",
    "import io\n",
    "\n",
    "# Library for working with dates\n",
    "from datetime import date\n",
    "\n",
    "import urllib.request"
   ]
  },
  {
   "cell_type": "code",
   "execution_count": 127,
   "metadata": {},
   "outputs": [
    {
     "data": {
      "text/html": [
       "<div class='gpresult'><h2>Messages</h2><div id='messages' data-messages='[\"Start Time: Sunday, April 21, 2024 4:23:16 PM\",\"WARNING 000258: Output C:\\\\Users\\\\15612\\\\Documents\\\\Arc_II\\\\Lab 3\\\\Lab 3\\\\PostgreSQL-35-gis5572(postgres).sde already exists\",\"Succeeded at Sunday, April 21, 2024 4:23:25 PM (Elapsed Time: 9.16 seconds)\"]' data-show='true'><div id = 'default' /></div></div>"
      ],
      "text/plain": [
       "<Result 'C:\\\\Users\\\\15612\\\\Documents\\\\Arc_II\\\\Lab 3\\\\Lab 3\\\\PostgreSQL-35-gis5572(postgres).sde'>"
      ]
     },
     "execution_count": 127,
     "metadata": {},
     "output_type": "execute_result"
    }
   ],
   "source": [
    "# Create database connection\n",
    "file_path = r'C:\\Users\\15612\\Documents\\Arc_II\\Lab 3\\Lab 3'\n",
    "dbname = 'PostgreSQL-35-gis5572(postgres).sde'\n",
    "platform = 'POSTGRESQL'\n",
    "user = 'postgres'\n",
    "password = 'Hyderabad43%'\n",
    "instance = '35.238.64.215'\n",
    "port = '5432'\n",
    "auth = 'DATABASE_AUTH'\n",
    "save = 'SAVE_USERNAME'\n",
    "db = 'gis5572'\n",
    "\n",
    "arcpy.management.CreateDatabaseConnection(\n",
    "    out_folder_path = file_path,\n",
    "    out_name = dbname,\n",
    "    database_platform = platform,\n",
    "    instance = instance,\n",
    "    account_authentication = auth,\n",
    "    username = user,\n",
    "    password = password,\n",
    "    save_user_pass = save,\n",
    "    database = db\n",
    ")"
   ]
  },
  {
   "cell_type": "code",
   "execution_count": 130,
   "metadata": {},
   "outputs": [],
   "source": [
    "#path to local database\n",
    "file_gdb = r\"C:\\Users\\15612\\Documents\\Arc_II\\Final_Project\\BMSB_Project_2\\BMSB_Project_2.gdb\""
   ]
  },
  {
   "cell_type": "code",
   "execution_count": 131,
   "metadata": {},
   "outputs": [],
   "source": [
    "# Define a spatial reference with ID 4326 (WGS 84)\n",
    "spatial_ref = arcpy.SpatialReference(4326)"
   ]
  },
  {
   "cell_type": "code",
   "execution_count": 132,
   "metadata": {},
   "outputs": [
    {
     "data": {
      "text/html": [
       "<div class='gpresult'><h2>Messages</h2><div id='messages' data-messages='[\"Start Time: Sunday, April 21, 2024 5:28:55 PM\",\"Succeeded at Sunday, April 21, 2024 5:28:57 PM (Elapsed Time: 2.01 seconds)\"]' data-show='true'><div id = 'default' /></div></div>"
      ],
      "text/plain": [
       "<Result 'C:\\\\Users\\\\15612\\\\Documents\\\\Arc_II\\\\Final_Project\\\\BMSB_Project_2\\\\BMSB_Project_2.gdb\\\\MN_Cities_2_ranked_WGS84'>"
      ]
     },
     "execution_count": 132,
     "metadata": {},
     "output_type": "execute_result"
    }
   ],
   "source": [
    "arcpy.management.Project(\n",
    "    in_dataset = os.path.join(file_gdb,'MN_Cities_2_ranked'),\n",
    "    out_dataset = os.path.join(file_gdb,'MN_Cities_2_ranked_WGS84'),\n",
    "    out_coor_system = spatial_ref\n",
    ")"
   ]
  },
  {
   "cell_type": "code",
   "execution_count": 133,
   "metadata": {},
   "outputs": [
    {
     "data": {
      "text/html": [
       "<div class='gpresult'><h2>Messages</h2><div id='messages' data-messages='[\"Start Time: Sunday, April 21, 2024 5:29:41 PM\",\"C:\\\\Users\\\\15612\\\\Documents\\\\Arc_II\\\\Final_Project\\\\BMSB_Project_2\\\\BMSB_Project_2.gdb\\\\MN_Cities_2_ranked_WGS84 Successfully converted:  C:\\\\Users\\\\15612\\\\Documents\\\\Arc_II\\\\Lab 3\\\\Lab 3\\\\PostgreSQL-35-gis5572(postgres).sde\\\\MN_Cities_2_ranked_WGS84\",\"Succeeded at Sunday, April 21, 2024 5:30:33 PM (Elapsed Time: 51.91 seconds)\"]' data-show='true'><div id = 'default' /></div></div>"
      ],
      "text/plain": [
       "<Result 'C:\\\\Users\\\\15612\\\\Documents\\\\Arc_II\\\\Lab 3\\\\Lab 3\\\\PostgreSQL-35-gis5572(postgres).sde'>"
      ]
     },
     "execution_count": 133,
     "metadata": {},
     "output_type": "execute_result"
    }
   ],
   "source": [
    "sde_gdb = os.path.join(file_path,dbname)\n",
    "\n",
    "# Add data to sde database\n",
    "arcpy.conversion.FeatureClassToGeodatabase(\n",
    "    Input_Features = os.path.join(file_gdb,'MN_Cities_2_ranked_WGS84'),\n",
    "    Output_Geodatabase = sde_gdb\n",
    ")"
   ]
  }
 ],
 "metadata": {
  "kernelspec": {
   "display_name": "ArcGISPro",
   "language": "Python",
   "name": "python3"
  },
  "language_info": {
   "file_extension": ".py",
   "name": "python",
   "version": "3"
  }
 },
 "nbformat": 4,
 "nbformat_minor": 2
}
